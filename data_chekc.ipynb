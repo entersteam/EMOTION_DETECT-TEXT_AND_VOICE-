{
 "cells": [
  {
   "cell_type": "code",
   "execution_count": 4,
   "metadata": {},
   "outputs": [],
   "source": [
    "import os\n",
    "import numpy as np\n",
    "import pandas as pd\n",
    "import tensorflow as tf\n",
    "from sklearn.model_selection import train_test_split"
   ]
  },
  {
   "cell_type": "code",
   "execution_count": 5,
   "metadata": {},
   "outputs": [],
   "source": [
    "from tensorflow.keras.preprocessing.text import Tokenizer\n",
    "from tensorflow.keras.preprocessing.sequence import pad_sequences\n",
    "from konlpy.tag import Komoran"
   ]
  },
  {
   "cell_type": "code",
   "execution_count": 6,
   "metadata": {},
   "outputs": [],
   "source": [
    "data1 = pd.read_csv('감정 분류를 위한 대화 음성 데이터셋/5차년도.csv', encoding='cp949')\n",
    "data2 = pd.read_csv('감정 분류를 위한 대화 음성 데이터셋/5차년도_2차.csv', encoding='cp949')\n",
    "komoran = Komoran()"
   ]
  },
  {
   "cell_type": "code",
   "execution_count": 7,
   "metadata": {},
   "outputs": [],
   "source": [
    "data = pd.concat([data1,data2], ignore_index=True)"
   ]
  },
  {
   "cell_type": "code",
   "execution_count": 111,
   "metadata": {},
   "outputs": [
    {
     "name": "stdout",
     "output_type": "stream",
     "text": [
      "{'disgust': 0, 'sad': 1, 'anger': 2, 'fear': 3, 'neutral': 4, 'happiness': 5, 'sadness': 6, 'angry': 7, 'surprise': 8}\n"
     ]
    }
   ],
   "source": [
    "emotion_dic = {}\n",
    "for i, emot in enumerate(data['상황'].unique()):\n",
    "    emotion_dic[emot] = i\n",
    "    \n",
    "print(emotion_dic)"
   ]
  },
  {
   "cell_type": "code",
   "execution_count": 8,
   "metadata": {},
   "outputs": [
    {
     "data": {
      "text/plain": [
       "array(['disgust', 'sad', 'anger', 'fear', 'neutral', 'happiness',\n",
       "       'sadness', 'angry', 'surprise'], dtype=object)"
      ]
     },
     "execution_count": 8,
     "metadata": {},
     "output_type": "execute_result"
    }
   ],
   "source": [
    "data['상황'].unique()"
   ]
  },
  {
   "cell_type": "code",
   "execution_count": 109,
   "metadata": {},
   "outputs": [],
   "source": [
    "emotion_dic = {'disgust' : 0, 'sad': 1, 'anger':2, 'fear':3, 'neutral':4}"
   ]
  },
  {
   "cell_type": "code",
   "execution_count": 110,
   "metadata": {},
   "outputs": [],
   "source": [
    "data_inedexing = len(data['발화문'])//3*2"
   ]
  },
  {
   "cell_type": "code",
   "execution_count": 112,
   "metadata": {},
   "outputs": [
    {
     "name": "stdout",
     "output_type": "stream",
     "text": [
      "['개', '를', '예쁘', '다고', '사놓', '고', '끝', '까지', '키우', '지', '도', '않', '고', '버리', '는', '사람', '들', '이', '엄청', '많', '아', '지', '었', '대', '.']\n"
     ]
    }
   ],
   "source": [
    "word_num = 1000\n",
    "\n",
    "sequences = [komoran.morphs(sentence) for sentence in data['발화문']]\n",
    "emotion_y = np.array([emotion_dic[emot] for emot in data['상황']])\n",
    "print(sequences[0])\n",
    "\n",
    "\n",
    "tokenizer = Tokenizer(num_words=word_num)\n",
    "tokenizer.fit_on_texts(sequences)\n",
    "sequences = tokenizer.texts_to_sequences(sequences)\n",
    "padded = pad_sequences(sequences, padding='post')"
   ]
  },
  {
   "cell_type": "code",
   "execution_count": 113,
   "metadata": {},
   "outputs": [],
   "source": [
    "train_x = padded[:data_inedexing]\n",
    "test_x = padded[data_inedexing:]\n",
    "train_y = emotion_y[:data_inedexing]\n",
    "test_y = emotion_y[data_inedexing:]\n",
    "\n",
    "x_train, x_test, y_train, y_test = train_test_split(padded, emotion_y, test_size=0.3, random_state=777)"
   ]
  },
  {
   "cell_type": "code",
   "execution_count": 78,
   "metadata": {},
   "outputs": [
    {
     "name": "stdout",
     "output_type": "stream",
     "text": [
      "[[678, 29, 705, 84, 2775, 9, 873, 190, 396, 16, 17, 48, 9, 80, 10, 51, 25, 4, 123, 93, 5, 16, 11, 147, 1], [66, 17, 344, 14, 2, 1, 259, 10, 51, 4, 27, 2, 1], [90, 5, 1, 505, 4, 13, 34, 32, 5, 1, 617, 55, 223, 328, 132, 1], [68, 4, 514, 257, 4, 112, 196, 4, 27, 113, 1, 144, 712, 7, 169, 941, 12, 37, 1033, 4, 27, 147, 1], [72, 3, 16, 1, 678, 396, 10, 51, 4, 629, 59, 1410, 80, 10, 51, 17, 629, 10, 41, 36, 26]]\n",
      "<keras.preprocessing.text.Tokenizer object at 0x000001788B171DB0>\n",
      "[0 0 1 ... 6 0 7]\n"
     ]
    }
   ],
   "source": [
    "print(sequences[:5])\n",
    "print(tokenizer)\n",
    "print(train_y)"
   ]
  },
  {
   "cell_type": "code",
   "execution_count": null,
   "metadata": {},
   "outputs": [],
   "source": [
    "tf.debugging.set_log_device_placement(True)\n",
    "\n",
    "a = tf.constant([[1.0, 2.0, 3.0], [4.0, 5.0, 6.0]])\n",
    "b = tf.constant([[1.0, 2.0], [3.0, 4.0], [5.0, 6.0]])\n",
    "c = tf.matmul(a, b)\n",
    "\n",
    "print(c)"
   ]
  },
  {
   "cell_type": "code",
   "execution_count": 122,
   "metadata": {},
   "outputs": [],
   "source": [
    "model = tf.keras.Sequential([\n",
    "  tf.keras.layers.Embedding(20000, 300, input_length=68), \n",
    "  tf.keras.layers.LSTM(units=50), \n",
    "  tf.keras.layers.Dense(5, activation='softmax')\n",
    "])\n",
    "\n",
    "model.compile(optimizer='adam', loss='sparse_categorical_crossentropy', metrics=['accuracy'])\n",
    "\n"
   ]
  },
  {
   "cell_type": "code",
   "execution_count": 123,
   "metadata": {},
   "outputs": [
    {
     "name": "stdout",
     "output_type": "stream",
     "text": [
      "['개', '를', '예쁘', '다고', '사놓', '고', '끝', '까지', '키우', '지', '도', '않', '고', '버리', '는', '사람', '들', '이', '엄청', '많', '아', '지', '었', '대', '.']\n"
     ]
    }
   ],
   "source": [
    "word_num = 3000\n",
    "\n",
    "sequences = [komoran.morphs(sentence) for sentence in data['발화문']]\n",
    "emotion_y = np.array([emotion_dic[emot] for emot in data['상황']])\n",
    "print(sequences[0])\n",
    "\n",
    "\n",
    "tokenizer = Tokenizer(num_words=word_num)\n",
    "tokenizer.fit_on_texts(sequences)\n",
    "sequences = tokenizer.texts_to_sequences(sequences)\n",
    "padded = pad_sequences(sequences, padding='post')"
   ]
  },
  {
   "cell_type": "code",
   "execution_count": 124,
   "metadata": {},
   "outputs": [
    {
     "name": "stdout",
     "output_type": "stream",
     "text": [
      "model-3_3000\n"
     ]
    }
   ],
   "source": [
    "checkpoint_path = f\"model-3_{word_num}\"+\"/cp-{epoch:04d}-{accuracy:.4f}-{val_accuracy:.4f}.ckpt\"\n",
    "checkpoint_dir = os.path.dirname(checkpoint_path)\n",
    "print(checkpoint_dir)\n",
    "batch_size = 64"
   ]
  },
  {
   "cell_type": "code",
   "execution_count": 125,
   "metadata": {},
   "outputs": [
    {
     "name": "stdout",
     "output_type": "stream",
     "text": [
      "Epoch 1/50\n",
      "258/258 [==============================] - ETA: 0s - loss: 2.1653 - accuracy: 0.1612\n",
      "Epoch 1: saving model to model-3_3000\\cp-0001-0.1612-0.1599.ckpt\n",
      "258/258 [==============================] - 27s 99ms/step - loss: 2.1653 - accuracy: 0.1612 - val_loss: 2.1557 - val_accuracy: 0.1599\n",
      "Epoch 2/50\n",
      "258/258 [==============================] - ETA: 0s - loss: 2.1628 - accuracy: 0.1629\n",
      "Epoch 2: saving model to model-3_3000\\cp-0002-0.1629-0.1629.ckpt\n",
      "258/258 [==============================] - 27s 103ms/step - loss: 2.1628 - accuracy: 0.1629 - val_loss: 2.1561 - val_accuracy: 0.1629\n",
      "Epoch 3/50\n",
      "258/258 [==============================] - ETA: 0s - loss: 2.1630 - accuracy: 0.1652\n",
      "Epoch 3: saving model to model-3_3000\\cp-0003-0.1652-0.1629.ckpt\n",
      "258/258 [==============================] - 26s 101ms/step - loss: 2.1630 - accuracy: 0.1652 - val_loss: 2.1541 - val_accuracy: 0.1629\n",
      "Epoch 4/50\n",
      "258/258 [==============================] - ETA: 0s - loss: 2.1623 - accuracy: 0.1646\n",
      "Epoch 4: saving model to model-3_3000\\cp-0004-0.1646-0.1629.ckpt\n",
      "258/258 [==============================] - 25s 99ms/step - loss: 2.1623 - accuracy: 0.1646 - val_loss: 2.1571 - val_accuracy: 0.1629\n",
      "Epoch 5/50\n",
      "258/258 [==============================] - ETA: 0s - loss: 2.1611 - accuracy: 0.1649\n",
      "Epoch 5: saving model to model-3_3000\\cp-0005-0.1649-0.1723.ckpt\n",
      "258/258 [==============================] - 26s 99ms/step - loss: 2.1611 - accuracy: 0.1649 - val_loss: 2.1427 - val_accuracy: 0.1723\n",
      "Epoch 6/50\n",
      "258/258 [==============================] - ETA: 0s - loss: 2.1102 - accuracy: 0.1881\n",
      "Epoch 6: saving model to model-3_3000\\cp-0006-0.1881-0.1920.ckpt\n",
      "258/258 [==============================] - 27s 106ms/step - loss: 2.1102 - accuracy: 0.1881 - val_loss: 2.0973 - val_accuracy: 0.1920\n",
      "Epoch 7/50\n",
      "258/258 [==============================] - ETA: 0s - loss: 2.1209 - accuracy: 0.1826\n",
      "Epoch 7: saving model to model-3_3000\\cp-0007-0.1826-0.1629.ckpt\n",
      "258/258 [==============================] - 27s 104ms/step - loss: 2.1209 - accuracy: 0.1826 - val_loss: 2.1542 - val_accuracy: 0.1629\n",
      "Epoch 8/50\n",
      "258/258 [==============================] - ETA: 0s - loss: 2.1627 - accuracy: 0.1631\n",
      "Epoch 8: saving model to model-3_3000\\cp-0008-0.1631-0.1629.ckpt\n",
      "258/258 [==============================] - 28s 110ms/step - loss: 2.1627 - accuracy: 0.1631 - val_loss: 2.1547 - val_accuracy: 0.1629\n",
      "Epoch 9/50\n",
      "258/258 [==============================] - ETA: 0s - loss: 2.1590 - accuracy: 0.1674\n",
      "Epoch 9: saving model to model-3_3000\\cp-0009-0.1674-0.2351.ckpt\n",
      "258/258 [==============================] - 25s 95ms/step - loss: 2.1590 - accuracy: 0.1674 - val_loss: 2.1059 - val_accuracy: 0.2351\n",
      "Epoch 10/50\n",
      "258/258 [==============================] - ETA: 0s - loss: 1.9828 - accuracy: 0.2406\n",
      "Epoch 10: saving model to model-3_3000\\cp-0010-0.2406-0.2739.ckpt\n",
      "258/258 [==============================] - 27s 105ms/step - loss: 1.9828 - accuracy: 0.2406 - val_loss: 1.9062 - val_accuracy: 0.2739\n",
      "Epoch 11/50\n",
      "258/258 [==============================] - ETA: 0s - loss: 1.7658 - accuracy: 0.3333\n",
      "Epoch 11: saving model to model-3_3000\\cp-0011-0.3333-0.3807.ckpt\n",
      "258/258 [==============================] - 25s 98ms/step - loss: 1.7658 - accuracy: 0.3333 - val_loss: 1.6334 - val_accuracy: 0.3807\n",
      "Epoch 12/50\n",
      "258/258 [==============================] - ETA: 0s - loss: 1.4842 - accuracy: 0.4315\n",
      "Epoch 12: saving model to model-3_3000\\cp-0012-0.4315-0.4903.ckpt\n",
      "258/258 [==============================] - 25s 97ms/step - loss: 1.4842 - accuracy: 0.4315 - val_loss: 1.4010 - val_accuracy: 0.4903\n",
      "Epoch 13/50\n",
      "258/258 [==============================] - ETA: 0s - loss: 1.3508 - accuracy: 0.5092\n",
      "Epoch 13: saving model to model-3_3000\\cp-0013-0.5092-0.4837.ckpt\n",
      "258/258 [==============================] - 27s 105ms/step - loss: 1.3508 - accuracy: 0.5092 - val_loss: 1.4375 - val_accuracy: 0.4837\n",
      "Epoch 14/50\n",
      "258/258 [==============================] - ETA: 0s - loss: 1.3302 - accuracy: 0.5149\n",
      "Epoch 14: saving model to model-3_3000\\cp-0014-0.5149-0.5479.ckpt\n",
      "258/258 [==============================] - 26s 99ms/step - loss: 1.3302 - accuracy: 0.5149 - val_loss: 1.2673 - val_accuracy: 0.5479\n",
      "Epoch 15/50\n",
      "258/258 [==============================] - ETA: 0s - loss: 1.2192 - accuracy: 0.5522\n",
      "Epoch 15: saving model to model-3_3000\\cp-0015-0.5522-0.5263.ckpt\n",
      "258/258 [==============================] - 25s 95ms/step - loss: 1.2192 - accuracy: 0.5522 - val_loss: 1.2891 - val_accuracy: 0.5263\n",
      "Epoch 16/50\n",
      "258/258 [==============================] - ETA: 0s - loss: 1.1886 - accuracy: 0.5654\n",
      "Epoch 16: saving model to model-3_3000\\cp-0016-0.5654-0.5647.ckpt\n",
      "258/258 [==============================] - 25s 97ms/step - loss: 1.1886 - accuracy: 0.5654 - val_loss: 1.2327 - val_accuracy: 0.5647\n",
      "Epoch 17/50\n",
      "258/258 [==============================] - ETA: 0s - loss: 1.0636 - accuracy: 0.6214\n",
      "Epoch 17: saving model to model-3_3000\\cp-0017-0.6214-0.6218.ckpt\n",
      "258/258 [==============================] - 26s 102ms/step - loss: 1.0636 - accuracy: 0.6214 - val_loss: 1.0876 - val_accuracy: 0.6218\n",
      "Epoch 18/50\n",
      "258/258 [==============================] - ETA: 0s - loss: 0.9955 - accuracy: 0.6558\n",
      "Epoch 18: saving model to model-3_3000\\cp-0018-0.6558-0.6478.ckpt\n",
      "258/258 [==============================] - 25s 97ms/step - loss: 0.9955 - accuracy: 0.6558 - val_loss: 1.0367 - val_accuracy: 0.6478\n",
      "Epoch 19/50\n",
      "258/258 [==============================] - ETA: 0s - loss: 0.8814 - accuracy: 0.7037\n",
      "Epoch 19: saving model to model-3_3000\\cp-0019-0.7037-0.6881.ckpt\n",
      "258/258 [==============================] - 25s 96ms/step - loss: 0.8814 - accuracy: 0.7037 - val_loss: 0.9271 - val_accuracy: 0.6881\n",
      "Epoch 20/50\n",
      "258/258 [==============================] - ETA: 0s - loss: 0.7649 - accuracy: 0.7573\n",
      "Epoch 20: saving model to model-3_3000\\cp-0020-0.7573-0.7564.ckpt\n",
      "258/258 [==============================] - 27s 106ms/step - loss: 0.7649 - accuracy: 0.7573 - val_loss: 0.8482 - val_accuracy: 0.7564\n",
      "Epoch 21/50\n",
      "258/258 [==============================] - ETA: 0s - loss: 0.6635 - accuracy: 0.8019\n",
      "Epoch 21: saving model to model-3_3000\\cp-0021-0.8019-0.7844.ckpt\n",
      "258/258 [==============================] - 27s 103ms/step - loss: 0.6635 - accuracy: 0.8019 - val_loss: 0.7354 - val_accuracy: 0.7844\n",
      "Epoch 22/50\n",
      "258/258 [==============================] - ETA: 0s - loss: 0.5866 - accuracy: 0.8247\n",
      "Epoch 22: saving model to model-3_3000\\cp-0022-0.8247-0.8063.ckpt\n",
      "258/258 [==============================] - 25s 97ms/step - loss: 0.5866 - accuracy: 0.8247 - val_loss: 0.6686 - val_accuracy: 0.8063\n",
      "Epoch 23/50\n",
      "258/258 [==============================] - ETA: 0s - loss: 0.5333 - accuracy: 0.8384\n",
      "Epoch 23: saving model to model-3_3000\\cp-0023-0.8384-0.8063.ckpt\n",
      "258/258 [==============================] - 25s 99ms/step - loss: 0.5333 - accuracy: 0.8384 - val_loss: 0.6700 - val_accuracy: 0.8063\n",
      "Epoch 24/50\n",
      "258/258 [==============================] - ETA: 0s - loss: 0.5031 - accuracy: 0.8422\n",
      "Epoch 24: saving model to model-3_3000\\cp-0024-0.8422-0.8077.ckpt\n",
      "258/258 [==============================] - 27s 103ms/step - loss: 0.5031 - accuracy: 0.8422 - val_loss: 0.6379 - val_accuracy: 0.8077\n",
      "Epoch 25/50\n",
      "258/258 [==============================] - ETA: 0s - loss: 0.4754 - accuracy: 0.8485\n",
      "Epoch 25: saving model to model-3_3000\\cp-0025-0.8485-0.8162.ckpt\n",
      "258/258 [==============================] - 23s 88ms/step - loss: 0.4754 - accuracy: 0.8485 - val_loss: 0.6302 - val_accuracy: 0.8162\n",
      "Epoch 26/50\n",
      "258/258 [==============================] - ETA: 0s - loss: 0.4530 - accuracy: 0.8577\n",
      "Epoch 26: saving model to model-3_3000\\cp-0026-0.8577-0.8228.ckpt\n",
      "258/258 [==============================] - 23s 89ms/step - loss: 0.4530 - accuracy: 0.8577 - val_loss: 0.6083 - val_accuracy: 0.8228\n",
      "Epoch 27/50\n",
      "258/258 [==============================] - ETA: 0s - loss: 0.4410 - accuracy: 0.8630\n",
      "Epoch 27: saving model to model-3_3000\\cp-0027-0.8630-0.8260.ckpt\n",
      "258/258 [==============================] - 23s 89ms/step - loss: 0.4410 - accuracy: 0.8630 - val_loss: 0.5894 - val_accuracy: 0.8260\n",
      "Epoch 28/50\n",
      "258/258 [==============================] - ETA: 0s - loss: 0.4094 - accuracy: 0.8684\n",
      "Epoch 28: saving model to model-3_3000\\cp-0028-0.8684-0.8289.ckpt\n",
      "258/258 [==============================] - 24s 92ms/step - loss: 0.4094 - accuracy: 0.8684 - val_loss: 0.5864 - val_accuracy: 0.8289\n",
      "Epoch 29/50\n",
      "258/258 [==============================] - ETA: 0s - loss: 0.3967 - accuracy: 0.8730\n",
      "Epoch 29: saving model to model-3_3000\\cp-0029-0.8730-0.8335.ckpt\n",
      "258/258 [==============================] - 23s 88ms/step - loss: 0.3967 - accuracy: 0.8730 - val_loss: 0.5949 - val_accuracy: 0.8335\n",
      "Epoch 30/50\n",
      "258/258 [==============================] - ETA: 0s - loss: 0.3833 - accuracy: 0.8768\n",
      "Epoch 30: saving model to model-3_3000\\cp-0030-0.8768-0.8342.ckpt\n",
      "258/258 [==============================] - 23s 88ms/step - loss: 0.3833 - accuracy: 0.8768 - val_loss: 0.5928 - val_accuracy: 0.8342\n",
      "Epoch 31/50\n",
      "258/258 [==============================] - ETA: 0s - loss: 0.3683 - accuracy: 0.8826\n",
      "Epoch 31: saving model to model-3_3000\\cp-0031-0.8826-0.8376.ckpt\n",
      "258/258 [==============================] - 23s 90ms/step - loss: 0.3683 - accuracy: 0.8826 - val_loss: 0.5836 - val_accuracy: 0.8376\n",
      "Epoch 32/50\n",
      "258/258 [==============================] - ETA: 0s - loss: 0.3591 - accuracy: 0.8835\n",
      "Epoch 32: saving model to model-3_3000\\cp-0032-0.8835-0.8335.ckpt\n",
      "258/258 [==============================] - 23s 90ms/step - loss: 0.3591 - accuracy: 0.8835 - val_loss: 0.5983 - val_accuracy: 0.8335\n",
      "Epoch 33/50\n",
      "258/258 [==============================] - ETA: 0s - loss: 0.3517 - accuracy: 0.8870\n",
      "Epoch 33: saving model to model-3_3000\\cp-0033-0.8870-0.8371.ckpt\n",
      "258/258 [==============================] - 23s 88ms/step - loss: 0.3517 - accuracy: 0.8870 - val_loss: 0.5753 - val_accuracy: 0.8371\n",
      "Epoch 34/50\n",
      "258/258 [==============================] - ETA: 0s - loss: 0.3513 - accuracy: 0.8873\n",
      "Epoch 34: saving model to model-3_3000\\cp-0034-0.8873-0.8364.ckpt\n",
      "258/258 [==============================] - 23s 88ms/step - loss: 0.3513 - accuracy: 0.8873 - val_loss: 0.5691 - val_accuracy: 0.8364\n",
      "Epoch 35/50\n",
      "258/258 [==============================] - ETA: 0s - loss: 0.3387 - accuracy: 0.8907\n",
      "Epoch 35: saving model to model-3_3000\\cp-0035-0.8907-0.8447.ckpt\n",
      "258/258 [==============================] - 23s 89ms/step - loss: 0.3387 - accuracy: 0.8907 - val_loss: 0.5620 - val_accuracy: 0.8447\n",
      "Epoch 36/50\n",
      "258/258 [==============================] - ETA: 0s - loss: 0.3402 - accuracy: 0.8895\n",
      "Epoch 36: saving model to model-3_3000\\cp-0036-0.8895-0.8413.ckpt\n",
      "258/258 [==============================] - 23s 88ms/step - loss: 0.3402 - accuracy: 0.8895 - val_loss: 0.5894 - val_accuracy: 0.8413\n",
      "Epoch 37/50\n",
      "258/258 [==============================] - ETA: 0s - loss: 0.3233 - accuracy: 0.8947\n",
      "Epoch 37: saving model to model-3_3000\\cp-0037-0.8947-0.8374.ckpt\n",
      "258/258 [==============================] - 24s 93ms/step - loss: 0.3233 - accuracy: 0.8947 - val_loss: 0.5584 - val_accuracy: 0.8374\n",
      "Epoch 38/50\n",
      "258/258 [==============================] - ETA: 0s - loss: 0.3138 - accuracy: 0.8989\n",
      "Epoch 38: saving model to model-3_3000\\cp-0038-0.8989-0.8474.ckpt\n",
      "258/258 [==============================] - 24s 91ms/step - loss: 0.3138 - accuracy: 0.8989 - val_loss: 0.5395 - val_accuracy: 0.8474\n",
      "Epoch 39/50\n",
      "258/258 [==============================] - ETA: 0s - loss: 0.3159 - accuracy: 0.8975\n",
      "Epoch 39: saving model to model-3_3000\\cp-0039-0.8975-0.8447.ckpt\n",
      "258/258 [==============================] - 23s 89ms/step - loss: 0.3159 - accuracy: 0.8975 - val_loss: 0.5667 - val_accuracy: 0.8447\n",
      "Epoch 40/50\n",
      "258/258 [==============================] - ETA: 0s - loss: 0.3101 - accuracy: 0.8991\n",
      "Epoch 40: saving model to model-3_3000\\cp-0040-0.8991-0.8474.ckpt\n",
      "258/258 [==============================] - 23s 87ms/step - loss: 0.3101 - accuracy: 0.8991 - val_loss: 0.5591 - val_accuracy: 0.8474\n",
      "Epoch 41/50\n",
      "258/258 [==============================] - ETA: 0s - loss: 0.2859 - accuracy: 0.9060\n",
      "Epoch 41: saving model to model-3_3000\\cp-0041-0.9060-0.8500.ckpt\n",
      "258/258 [==============================] - 22s 87ms/step - loss: 0.2859 - accuracy: 0.9060 - val_loss: 0.5674 - val_accuracy: 0.8500\n",
      "Epoch 42/50\n",
      "258/258 [==============================] - ETA: 0s - loss: 0.2720 - accuracy: 0.9110\n",
      "Epoch 42: saving model to model-3_3000\\cp-0042-0.9110-0.8437.ckpt\n",
      "258/258 [==============================] - 23s 88ms/step - loss: 0.2720 - accuracy: 0.9110 - val_loss: 0.5707 - val_accuracy: 0.8437\n",
      "Epoch 43/50\n",
      "258/258 [==============================] - ETA: 0s - loss: 0.2632 - accuracy: 0.9119\n",
      "Epoch 43: saving model to model-3_3000\\cp-0043-0.9119-0.8500.ckpt\n",
      "258/258 [==============================] - 23s 91ms/step - loss: 0.2632 - accuracy: 0.9119 - val_loss: 0.5869 - val_accuracy: 0.8500\n",
      "Epoch 44/50\n",
      "258/258 [==============================] - ETA: 0s - loss: 0.2614 - accuracy: 0.9132\n",
      "Epoch 44: saving model to model-3_3000\\cp-0044-0.9132-0.8454.ckpt\n",
      "258/258 [==============================] - 24s 92ms/step - loss: 0.2614 - accuracy: 0.9132 - val_loss: 0.6079 - val_accuracy: 0.8454\n",
      "Epoch 45/50\n",
      "258/258 [==============================] - ETA: 0s - loss: 0.2625 - accuracy: 0.9121\n",
      "Epoch 45: saving model to model-3_3000\\cp-0045-0.9121-0.8508.ckpt\n",
      "258/258 [==============================] - 23s 90ms/step - loss: 0.2625 - accuracy: 0.9121 - val_loss: 0.5871 - val_accuracy: 0.8508\n",
      "Epoch 46/50\n",
      "258/258 [==============================] - ETA: 0s - loss: 0.2620 - accuracy: 0.9132\n",
      "Epoch 46: saving model to model-3_3000\\cp-0046-0.9132-0.8532.ckpt\n",
      "258/258 [==============================] - 23s 89ms/step - loss: 0.2620 - accuracy: 0.9132 - val_loss: 0.5709 - val_accuracy: 0.8532\n",
      "Epoch 47/50\n",
      "258/258 [==============================] - ETA: 0s - loss: 0.2507 - accuracy: 0.9179\n",
      "Epoch 47: saving model to model-3_3000\\cp-0047-0.9179-0.8534.ckpt\n",
      "258/258 [==============================] - 23s 90ms/step - loss: 0.2507 - accuracy: 0.9179 - val_loss: 0.5570 - val_accuracy: 0.8534\n",
      "Epoch 48/50\n",
      "258/258 [==============================] - ETA: 0s - loss: 0.2359 - accuracy: 0.9231\n",
      "Epoch 48: saving model to model-3_3000\\cp-0048-0.9231-0.8544.ckpt\n",
      "258/258 [==============================] - 23s 89ms/step - loss: 0.2359 - accuracy: 0.9231 - val_loss: 0.6248 - val_accuracy: 0.8544\n",
      "Epoch 49/50\n",
      "258/258 [==============================] - ETA: 0s - loss: 0.2426 - accuracy: 0.9204\n",
      "Epoch 49: saving model to model-3_3000\\cp-0049-0.9204-0.8510.ckpt\n",
      "258/258 [==============================] - 23s 90ms/step - loss: 0.2426 - accuracy: 0.9204 - val_loss: 0.5829 - val_accuracy: 0.8510\n",
      "Epoch 50/50\n",
      "258/258 [==============================] - ETA: 0s - loss: 0.2345 - accuracy: 0.9225\n",
      "Epoch 50: saving model to model-3_3000\\cp-0050-0.9225-0.8495.ckpt\n",
      "258/258 [==============================] - 23s 90ms/step - loss: 0.2345 - accuracy: 0.9225 - val_loss: 0.5966 - val_accuracy: 0.8495\n"
     ]
    }
   ],
   "source": [
    "cp_callback = tf.keras.callbacks.ModelCheckpoint(\n",
    "    filepath=checkpoint_path, \n",
    "    verbose=1, \n",
    "    save_weights_only=True)\n",
    "history = model.fit(x_train, y_train, epochs=50, \n",
    "            callbacks=[cp_callback],\n",
    "            batch_size=batch_size, validation_split=0.2)"
   ]
  },
  {
   "cell_type": "code",
   "execution_count": 126,
   "metadata": {},
   "outputs": [
    {
     "data": {
      "image/png": "[encoded data removed]",
      "text/plain": [
       "<Figure size 1200x400 with 2 Axes>"
      ]
     },
     "metadata": {},
     "output_type": "display_data"
    }
   ],
   "source": [
    "import matplotlib.pyplot as plt\n",
    "plt.figure(figsize=(12, 4))\n",
    "\n",
    "plt.subplot(1, 2, 1)\n",
    "plt.plot(history.history['loss'], 'b-', label='loss')\n",
    "plt.plot(history.history['val_loss'], 'r--', label='val_loss')\n",
    "plt.xlabel('Epoch')\n",
    "plt.legend()\n",
    "\n",
    "plt.subplot(1, 2, 2)\n",
    "plt.plot(history.history['accuracy'], 'g-', label='accuracy')\n",
    "plt.plot(history.history['val_accuracy'], 'k--', label='val_accuracy')\n",
    "plt.xlabel('Epoch')\n",
    "plt.legend()\n",
    "\n",
    "plt.show()"
   ]
  },
  {
   "cell_type": "code",
   "execution_count": 127,
   "metadata": {},
   "outputs": [
    {
     "data": {
      "text/plain": [
       "[0.6061074733734131, 0.8522005677223206]"
      ]
     },
     "execution_count": 127,
     "metadata": {},
     "output_type": "execute_result"
    }
   ],
   "source": [
    "model.evaluate(x_test, y_test, verbose=0)"
   ]
  },
  {
   "cell_type": "code",
   "execution_count": 121,
   "metadata": {},
   "outputs": [
    {
     "name": "stdout",
     "output_type": "stream",
     "text": [
      "재미 없다.\n",
      "['재미', '없', '다', '.']\n",
      "[['재미'], ['재미', '없'], ['재미', '없', '다'], ['재미', '없', '다', '.']]\n",
      "[[], [27], [27, 35], [27, 35, 1]]\n",
      "[[ 0  0  0  0  0  0  0  0  0  0  0  0  0  0  0  0  0  0  0  0  0  0  0  0\n",
      "   0  0  0  0  0  0  0  0  0  0  0  0  0  0  0  0  0  0  0  0  0  0  0  0\n",
      "   0  0  0  0  0  0  0  0  0  0  0  0  0  0  0  0  0  0  0  0]\n",
      " [27  0  0  0  0  0  0  0  0  0  0  0  0  0  0  0  0  0  0  0  0  0  0  0\n",
      "   0  0  0  0  0  0  0  0  0  0  0  0  0  0  0  0  0  0  0  0  0  0  0  0\n",
      "   0  0  0  0  0  0  0  0  0  0  0  0  0  0  0  0  0  0  0  0]\n",
      " [27 35  0  0  0  0  0  0  0  0  0  0  0  0  0  0  0  0  0  0  0  0  0  0\n",
      "   0  0  0  0  0  0  0  0  0  0  0  0  0  0  0  0  0  0  0  0  0  0  0  0\n",
      "   0  0  0  0  0  0  0  0  0  0  0  0  0  0  0  0  0  0  0  0]\n",
      " [27 35  1  0  0  0  0  0  0  0  0  0  0  0  0  0  0  0  0  0  0  0  0  0\n",
      "   0  0  0  0  0  0  0  0  0  0  0  0  0  0  0  0  0  0  0  0  0  0  0  0\n",
      "   0  0  0  0  0  0  0  0  0  0  0  0  0  0  0  0  0  0  0  0]]\n",
      "1/1 [==============================] - 0s 475ms/step\n",
      "['재미']\n",
      "[0.0453499  0.02242138 0.02905754 0.0449136  0.37729192 0.19377196\n",
      " 0.07950026 0.19568351 0.01200997]\n",
      "['재미', '없']\n",
      "[0.21744059 0.10928623 0.01963446 0.0241402  0.02654301 0.20426801\n",
      " 0.27700335 0.11217672 0.00950742]\n",
      "['재미', '없', '다']\n",
      "[0.01740304 0.69067246 0.10421948 0.01698508 0.02561865 0.04669419\n",
      " 0.05144385 0.03225476 0.01470847]\n",
      "['재미', '없', '다', '.']\n",
      "[0.02456147 0.5206242  0.14251755 0.04078124 0.03437855 0.07119415\n",
      " 0.08034372 0.06256292 0.02303618]\n"
     ]
    }
   ],
   "source": [
    "test_sentence = '재미 없다.'\n",
    "print(test_sentence)\n",
    "test_sentence = komoran.morphs(test_sentence)\n",
    "print(test_sentence)\n",
    "test_sentences = []\n",
    "now_sentence = []\n",
    "for word in test_sentence:\n",
    "    now_sentence.append(word)\n",
    "    test_sentences.append(now_sentence[:])\n",
    "print(test_sentences)\n",
    "    \n",
    "test_X_1 = tokenizer.texts_to_sequences(test_sentences)\n",
    "print(test_X_1)\n",
    "test_X_1 = pad_sequences(test_X_1, padding='post',maxlen=68)\n",
    "print(test_X_1)\n",
    "prediction = model.predict(test_X_1)\n",
    "for idx, sentence in enumerate(test_sentences):\n",
    "    print(sentence)\n",
    "    print(prediction[idx])"
   ]
  }
 ],
 "metadata": {
  "kernelspec": {
   "display_name": "Python 3",
   "language": "python",
   "name": "python3"
  },
  "language_info": {
   "codemirror_mode": {
    "name": "ipython",
    "version": 3
   },
   "file_extension": ".py",
   "mimetype": "text/x-python",
   "name": "python",
   "nbconvert_exporter": "python",
   "pygments_lexer": "ipython3",
   "version": "3.11.1"
  },
  "orig_nbformat": 4,
  "vscode": {
   "interpreter": {
    "hash": "fe9f11b2625145702e420eee1b4dd5ff11bc4785ed32d159801c57cb79d09077"
   }
  }
 },
 "nbformat": 4,
 "nbformat_minor": 2
}
