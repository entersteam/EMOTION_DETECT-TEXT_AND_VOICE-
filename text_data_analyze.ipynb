{
 "cells": [
  {
   "cell_type": "code",
   "execution_count": 1,
   "metadata": {},
   "outputs": [],
   "source": [
    "import os\n",
    "import numpy as np\n",
    "import pandas as pd\n",
    "import tensorflow as tf\n",
    "from sklearn.model_selection import train_test_split"
   ]
  },
  {
   "cell_type": "code",
   "execution_count": 2,
   "metadata": {},
   "outputs": [],
   "source": [
    "from tensorflow.keras.preprocessing.text import Tokenizer\n",
    "from tensorflow.keras.preprocessing.sequence import pad_sequences\n",
    "from konlpy.tag import Okt"
   ]
  },
  {
   "cell_type": "code",
   "execution_count": 3,
   "metadata": {},
   "outputs": [],
   "source": [
    "year_4_data = pd.read_csv(\"data/4차년도.csv\", encoding=\"cp949\")\n",
    "year_5_data = pd.read_csv(\"data/5차년도.csv\", encoding=\"cp949\")\n",
    "year_5_data_2 = pd.read_csv(\"data/5차년도_2차.csv\", encoding=\"cp949\")\n",
    "\n",
    "okt = Okt()"
   ]
  },
  {
   "cell_type": "code",
   "execution_count": 4,
   "metadata": {},
   "outputs": [
    {
     "name": "stdout",
     "output_type": "stream",
     "text": [
      "4 : 14606, 5_1 : 10011, 5_2 : 19374\n"
     ]
    }
   ],
   "source": [
    "print(f\"4 : {len(year_4_data)}, 5_1 : {len(year_5_data)}, 5_2 : {len(year_5_data_2)}\")"
   ]
  },
  {
   "cell_type": "code",
   "execution_count": 5,
   "metadata": {},
   "outputs": [
    {
     "name": "stdout",
     "output_type": "stream",
     "text": [
      "43991\n"
     ]
    }
   ],
   "source": [
    "data = pd.concat((year_4_data,year_5_data,year_5_data_2))\n",
    "print(len(data))"
   ]
  },
  {
   "cell_type": "code",
   "execution_count": 6,
   "metadata": {},
   "outputs": [
    {
     "name": "stdout",
     "output_type": "stream",
     "text": [
      "{'anger': 0, 'sad': 1, 'fear': 2, 'disgust': 3, 'neutral': 4, 'happiness': 5, 'sadness': 6, 'angry': 7, 'surprise': 8}\n"
     ]
    }
   ],
   "source": [
    "# 기쁨 : 0, 슬픔 : 1, 화남 : 2, 두려움 : 3, 역겨움 : 4, 중립 : 5, 놀라움 : 6\n",
    "emot_indexing_dic = {'happiness' : 0, 'sadness' : 1, 'angry' : 2, 'fear' : 3, 'disgust' : 4, 'neutral' : 5, 'surprise' : 6}\n",
    "emotion_dic = {}\n",
    "for i, emot in enumerate(data['상황'].unique()):\n",
    "    emotion_dic[emot] = i\n",
    "    \n",
    "print(emotion_dic)"
   ]
  },
  {
   "cell_type": "code",
   "execution_count": 11,
   "metadata": {},
   "outputs": [],
   "source": [
    "emotion_dic = {'anger': 0, 'sad': 1, 'neutral': 2, 'happiness': 3, 'sadness': 1, 'angry': 0}\n"
   ]
  },
  {
   "cell_type": "code",
   "execution_count": 12,
   "metadata": {},
   "outputs": [],
   "source": [
    "emotions = list(emotion_dic)"
   ]
  },
  {
   "cell_type": "code",
   "execution_count": 13,
   "metadata": {},
   "outputs": [],
   "source": [
    "x_origin = []\n",
    "y = []\n",
    "for i in data.iloc:\n",
    "    if i['상황'] in emotions:\n",
    "        x_origin.append(i['발화문'])\n",
    "        y.append(emotion_dic[i['상황']])"
   ]
  },
  {
   "cell_type": "code",
   "execution_count": 14,
   "metadata": {},
   "outputs": [],
   "source": [
    "x = []\n",
    "for i in x_origin:\n",
    "    x.append(okt.morphs(i))"
   ]
  },
  {
   "cell_type": "code",
   "execution_count": 15,
   "metadata": {},
   "outputs": [],
   "source": [
    "y = np.array(y)"
   ]
  },
  {
   "cell_type": "code",
   "execution_count": 16,
   "metadata": {},
   "outputs": [],
   "source": [
    "word_num = 10000\n",
    "\n",
    "\n",
    "tokenizer = Tokenizer(num_words=word_num)\n",
    "tokenizer.fit_on_texts(x)\n",
    "x = tokenizer.texts_to_sequences(x)\n",
    "padded_x = pad_sequences(x, padding='post')"
   ]
  },
  {
   "cell_type": "code",
   "execution_count": 21,
   "metadata": {},
   "outputs": [
    {
     "data": {
      "text/plain": [
       "(33445, 56)"
      ]
     },
     "execution_count": 21,
     "metadata": {},
     "output_type": "execute_result"
    }
   ],
   "source": [
    "padded_x.shape"
   ]
  },
  {
   "cell_type": "code",
   "execution_count": 22,
   "metadata": {},
   "outputs": [
    {
     "ename": "NameError",
     "evalue": "name 'emotion_y' is not defined",
     "output_type": "error",
     "traceback": [
      "\u001b[1;31m---------------------------------------------------------------------------\u001b[0m",
      "\u001b[1;31mNameError\u001b[0m                                 Traceback (most recent call last)",
      "\u001b[1;32mc:\\Users\\user\\Documents\\GitHub\\EMOTION_DETECT-TEXT_AND_VOICE-\\text_data_analyze.ipynb Cell 14\u001b[0m line \u001b[0;36m1\n\u001b[1;32m----> <a href='vscode-notebook-cell:/c%3A/Users/user/Documents/GitHub/EMOTION_DETECT-TEXT_AND_VOICE-/text_data_analyze.ipynb#X14sZmlsZQ%3D%3D?line=0'>1</a>\u001b[0m x_train, x_test, y_train, y_test \u001b[39m=\u001b[39m train_test_split(padded_x, emotion_y, test_size\u001b[39m=\u001b[39m\u001b[39m0.3\u001b[39m, random_state\u001b[39m=\u001b[39m\u001b[39m777\u001b[39m)\n",
      "\u001b[1;31mNameError\u001b[0m: name 'emotion_y' is not defined"
     ]
    }
   ],
   "source": [
    "x_train, x_test, y_train, y_test = train_test_split(padded_x, emotion_y, test_size=0.3, random_state=777)"
   ]
  },
  {
   "cell_type": "code",
   "execution_count": 29,
   "metadata": {},
   "outputs": [],
   "source": [
    "maxlen = padded_x.shape[1]"
   ]
  },
  {
   "cell_type": "code",
   "execution_count": 31,
   "metadata": {},
   "outputs": [
    {
     "data": {
      "text/plain": [
       "(43991,)"
      ]
     },
     "execution_count": 31,
     "metadata": {},
     "output_type": "execute_result"
    }
   ],
   "source": [
    "emotion_y.shape"
   ]
  },
  {
   "cell_type": "code",
   "execution_count": 37,
   "metadata": {},
   "outputs": [],
   "source": [
    "model = tf.keras.Sequential([\n",
    "  tf.keras.layers.Embedding(20000, 300, input_length=56), \n",
    "  tf.keras.layers.LSTM(units=50), \n",
    "  tf.keras.layers.Dense(9, activation='softmax')\n",
    "])\n",
    "\n",
    "es_callback = tf.keras.callbacks.EarlyStopping('val_loss', 0, 3,)\n",
    "\n",
    "model.compile(optimizer='adam', loss='sparse_categorical_crossentropy', metrics=['accuracy'])"
   ]
  },
  {
   "cell_type": "code",
   "execution_count": 38,
   "metadata": {},
   "outputs": [
    {
     "name": "stdout",
     "output_type": "stream",
     "text": [
      "Epoch 1/50\n",
      "419/419 [==============================] - 61s 141ms/step - loss: 1.1316 - accuracy: 0.4645 - val_loss: 1.8811 - val_accuracy: 0.1997\n",
      "Epoch 2/50\n",
      "419/419 [==============================] - 60s 142ms/step - loss: 1.1037 - accuracy: 0.4637 - val_loss: 2.0084 - val_accuracy: 0.2166\n",
      "Epoch 3/50\n",
      "419/419 [==============================] - 59s 140ms/step - loss: 1.1022 - accuracy: 0.4674 - val_loss: 1.9165 - val_accuracy: 0.2166\n",
      "Epoch 4/50\n",
      "419/419 [==============================] - 59s 140ms/step - loss: 1.0776 - accuracy: 0.4963 - val_loss: 1.8497 - val_accuracy: 0.3099\n",
      "Epoch 5/50\n",
      "419/419 [==============================] - 59s 140ms/step - loss: 0.6843 - accuracy: 0.7689 - val_loss: 1.5108 - val_accuracy: 0.3473\n",
      "Epoch 6/50\n",
      "419/419 [==============================] - 59s 140ms/step - loss: 0.3170 - accuracy: 0.8902 - val_loss: 1.2150 - val_accuracy: 0.5656\n",
      "Epoch 7/50\n",
      "419/419 [==============================] - 59s 141ms/step - loss: 0.2015 - accuracy: 0.9231 - val_loss: 1.0513 - val_accuracy: 0.6653\n",
      "Epoch 8/50\n",
      "419/419 [==============================] - 59s 141ms/step - loss: 0.1215 - accuracy: 0.9640 - val_loss: 1.1049 - val_accuracy: 0.7110\n",
      "Epoch 9/50\n",
      "419/419 [==============================] - 59s 141ms/step - loss: 0.0788 - accuracy: 0.9767 - val_loss: 1.0283 - val_accuracy: 0.7255\n",
      "Epoch 10/50\n",
      "419/419 [==============================] - 59s 141ms/step - loss: 0.0610 - accuracy: 0.9808 - val_loss: 1.1368 - val_accuracy: 0.7236\n",
      "Epoch 11/50\n",
      "419/419 [==============================] - 59s 141ms/step - loss: 0.0520 - accuracy: 0.9828 - val_loss: 1.1596 - val_accuracy: 0.7348\n",
      "Epoch 12/50\n",
      "419/419 [==============================] - 59s 142ms/step - loss: 0.0442 - accuracy: 0.9852 - val_loss: 1.2433 - val_accuracy: 0.7327\n"
     ]
    }
   ],
   "source": [
    "history = model.fit(padded_x, y, epochs=50, batch_size=64, validation_split=0.2, callbacks=[es_callback])"
   ]
  },
  {
   "cell_type": "code",
   "execution_count": 39,
   "metadata": {},
   "outputs": [
    {
     "data": {
      "image/png": "[encoded data removed]",
      "text/plain": [
       "<Figure size 1200x400 with 2 Axes>"
      ]
     },
     "metadata": {},
     "output_type": "display_data"
    }
   ],
   "source": [
    "import matplotlib.pyplot as plt\n",
    "plt.figure(figsize=(12, 4))\n",
    "\n",
    "plt.subplot(1, 2, 1)\n",
    "plt.plot(history.history['loss'], 'b-', label='loss')\n",
    "plt.plot(history.history['val_loss'], 'r--', label='val_loss')\n",
    "plt.xlabel('Epoch')\n",
    "plt.legend()\n",
    "\n",
    "plt.subplot(1, 2, 2)\n",
    "plt.plot(history.history['accuracy'], 'g-', label='accuracy')\n",
    "plt.plot(history.history['val_accuracy'], 'k--', label='val_accuracy')\n",
    "plt.xlabel('Epoch')\n",
    "plt.legend()\n",
    "\n",
    "plt.show()"
   ]
  },
  {
   "cell_type": "code",
   "execution_count": 40,
   "metadata": {},
   "outputs": [],
   "source": [
    "model.save_weights('./checkpoints/my_checkpoint')"
   ]
  },
  {
   "cell_type": "code",
   "execution_count": 43,
   "metadata": {},
   "outputs": [
    {
     "name": "stdout",
     "output_type": "stream",
     "text": [
      "1 나는 사과만 보면 너무 좋아\n",
      "2 [['나', '는', '사과', '만', '보면', '너무', '좋아']]\n",
      "3 [[4, 17, 360, 45, 529, 7, 213]]\n",
      "4 [[  4  17 360  45 529   7 213   0   0   0   0   0   0   0   0   0   0   0\n",
      "    0   0   0   0   0   0   0   0   0   0   0   0   0   0   0   0   0   0\n",
      "    0   0   0   0   0   0   0   0   0   0   0   0   0   0   0   0   0   0\n",
      "    0   0]]\n",
      "1/1 [==============================] - 0s 29ms/step\n",
      "[[9.9419183e-01 1.4616118e-03 6.7750417e-04 3.6602588e-03 3.3560946e-06\n",
      "  2.2827874e-06 8.8893142e-07 1.5215405e-06 7.8451512e-07]]\n"
     ]
    }
   ],
   "source": [
    "test_sentence = '나는 사과만 보면 너무 좋아'\n",
    "print(1,test_sentence)\n",
    "test_sentence = [okt.morphs(test_sentence)]\n",
    "print(2,test_sentence)\n",
    "\n",
    "\n",
    "test_sentence = tokenizer.texts_to_sequences(test_sentence)\n",
    "print(3,test_sentence)\n",
    "test_sentence = pad_sequences(test_sentence, padding='post', maxlen=56)\n",
    "print(4,test_sentence)\n",
    "\n",
    "print(model.predict(test_sentence))"
   ]
  }
 ],
 "metadata": {
  "kernelspec": {
   "display_name": "Python 3",
   "language": "python",
   "name": "python3"
  },
  "language_info": {
   "codemirror_mode": {
    "name": "ipython",
    "version": 3
   },
   "file_extension": ".py",
   "mimetype": "text/x-python",
   "name": "python",
   "nbconvert_exporter": "python",
   "pygments_lexer": "ipython3",
   "version": "3.10.4"
  },
  "orig_nbformat": 4
 },
 "nbformat": 4,
 "nbformat_minor": 2
}
