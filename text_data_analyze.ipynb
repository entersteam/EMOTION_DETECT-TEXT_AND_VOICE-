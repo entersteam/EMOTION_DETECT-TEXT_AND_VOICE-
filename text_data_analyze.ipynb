{
 "cells": [
  {
   "cell_type": "code",
   "execution_count": 1,
   "metadata": {},
   "outputs": [],
   "source": [
    "import os\n",
    "import numpy as np\n",
    "import pandas as pd\n",
    "import tensorflow as tf\n",
    "from sklearn.model_selection import train_test_split"
   ]
  },
  {
   "cell_type": "code",
   "execution_count": 2,
   "metadata": {},
   "outputs": [],
   "source": [
    "from tensorflow.keras.preprocessing.text import Tokenizer\n",
    "from tensorflow.keras.preprocessing.sequence import pad_sequences\n",
    "from konlpy.tag import Okt"
   ]
  },
  {
   "cell_type": "code",
   "execution_count": 3,
   "metadata": {},
   "outputs": [],
   "source": [
    "year_4_data = pd.read_csv(\"data/4차년도.csv\", encoding=\"cp949\")\n",
    "year_5_data = pd.read_csv(\"data/5차년도.csv\", encoding=\"cp949\")\n",
    "year_5_data_2 = pd.read_csv(\"data/5차년도_2차.csv\", encoding=\"cp949\")\n",
    "\n",
    "okt = Okt()"
   ]
  },
  {
   "cell_type": "code",
   "execution_count": 4,
   "metadata": {},
   "outputs": [
    {
     "name": "stdout",
     "output_type": "stream",
     "text": [
      "4 : 14606, 5_1 : 10011, 5_2 : 19374\n"
     ]
    }
   ],
   "source": [
    "print(f\"4 : {len(year_4_data)}, 5_1 : {len(year_5_data)}, 5_2 : {len(year_5_data_2)}\")"
   ]
  },
  {
   "cell_type": "code",
   "execution_count": 5,
   "metadata": {},
   "outputs": [
    {
     "name": "stdout",
     "output_type": "stream",
     "text": [
      "43991\n"
     ]
    }
   ],
   "source": [
    "data = pd.concat((year_4_data,year_5_data,year_5_data_2))\n",
    "print(len(data))"
   ]
  },
  {
   "cell_type": "code",
   "execution_count": 6,
   "metadata": {},
   "outputs": [],
   "source": [
    "emotion_dic = {'anger': 0, 'sad': 1, 'neutral': 2, 'happiness': 3, 'sadness': 1, 'angry': 0}\n"
   ]
  },
  {
   "cell_type": "code",
   "execution_count": 7,
   "metadata": {},
   "outputs": [],
   "source": [
    "angry_data = pd.concat([data[data['상황']=='anger'], data[data['상황']=='angry']])\n",
    "sad_data = pd.concat([data[data['상황']=='sad'], data[data['상황']=='sadness']])\n",
    "neutral_data = data[data['상황']=='neutral']\n",
    "happy_data = data[data['상황']=='happiness']\n",
    "\n",
    "data = [angry_data, sad_data, neutral_data, happy_data]"
   ]
  },
  {
   "cell_type": "code",
   "execution_count": 11,
   "metadata": {},
   "outputs": [
    {
     "name": "stdout",
     "output_type": "stream",
     "text": [
      "3262\n"
     ]
    }
   ],
   "source": [
    "min_n = np.Inf\n",
    "\n",
    "for i in data:\n",
    "    if len(i) < min_n:\n",
    "        min_n = len(i)\n",
    "print(min_n)"
   ]
  },
  {
   "cell_type": "code",
   "execution_count": 20,
   "metadata": {},
   "outputs": [],
   "source": [
    "x = []\n",
    "y = []\n",
    "for i in data:\n",
    "    x.append(i.sample(frac=1)[:min_n])\n",
    "x = pd.concat(x)\n",
    "\n",
    "for i in x.iloc:\n",
    "    y.append(emotion_dic[i['상황']])"
   ]
  },
  {
   "cell_type": "code",
   "execution_count": 13,
   "metadata": {},
   "outputs": [
    {
     "name": "stdout",
     "output_type": "stream",
     "text": [
      "13048 13048\n"
     ]
    }
   ],
   "source": [
    "print(len(x), len(y))"
   ]
  },
  {
   "cell_type": "code",
   "execution_count": 21,
   "metadata": {},
   "outputs": [],
   "source": [
    "x_origin = x\n",
    "x = []\n",
    "for i in x_origin.iloc:\n",
    "    x.append(okt.morphs(i['발화문']))"
   ]
  },
  {
   "cell_type": "code",
   "execution_count": 23,
   "metadata": {},
   "outputs": [
    {
     "data": {
      "text/plain": [
       "13048"
      ]
     },
     "execution_count": 23,
     "metadata": {},
     "output_type": "execute_result"
    }
   ],
   "source": [
    "len(x)"
   ]
  },
  {
   "cell_type": "code",
   "execution_count": 24,
   "metadata": {},
   "outputs": [],
   "source": [
    "y = np.array(y)"
   ]
  },
  {
   "cell_type": "code",
   "execution_count": 25,
   "metadata": {},
   "outputs": [],
   "source": [
    "import pickle\n",
    "# loading\n",
    "with open('tokenizer.pickle', 'rb') as handle:\n",
    "    tokenizer = pickle.load(handle)\n",
    "    \n",
    "x = tokenizer.texts_to_sequences(x)\n",
    "padded_x = pad_sequences(x, padding='post')"
   ]
  },
  {
   "cell_type": "code",
   "execution_count": 26,
   "metadata": {},
   "outputs": [
    {
     "data": {
      "text/plain": [
       "(13048, 45)"
      ]
     },
     "execution_count": 26,
     "metadata": {},
     "output_type": "execute_result"
    }
   ],
   "source": [
    "padded_x.shape"
   ]
  },
  {
   "cell_type": "code",
   "execution_count": 27,
   "metadata": {},
   "outputs": [],
   "source": [
    "x_train, x_test, y_train, y_test = train_test_split(padded_x, y, test_size=1, random_state=777)"
   ]
  },
  {
   "cell_type": "code",
   "execution_count": 33,
   "metadata": {},
   "outputs": [
    {
     "data": {
      "text/plain": [
       "(13047,)"
      ]
     },
     "execution_count": 33,
     "metadata": {},
     "output_type": "execute_result"
    }
   ],
   "source": [
    "y_train.shape"
   ]
  },
  {
   "cell_type": "code",
   "execution_count": 28,
   "metadata": {},
   "outputs": [],
   "source": [
    "maxlen = padded_x.shape[1]"
   ]
  },
  {
   "cell_type": "code",
   "execution_count": 38,
   "metadata": {},
   "outputs": [],
   "source": [
    "model = tf.keras.Sequential([\n",
    "  tf.keras.layers.Embedding(10000, 300, input_length=maxlen), \n",
    "  tf.keras.layers.LSTM(units=64, return_sequences=True), \n",
    "  tf.keras.layers.LSTM(units=64), \n",
    "  tf.keras.layers.Dense(64, activation='relu'),\n",
    "  tf.keras.layers.Dropout(0.5),\n",
    "  tf.keras.layers.Dense(4, activation='softmax')\n",
    "])\n",
    "\n",
    "es_callback = tf.keras.callbacks.EarlyStopping('val_loss', 0, 5,)\n",
    "\n",
    "model.compile(optimizer='adam', loss='sparse_categorical_crossentropy', metrics=['accuracy'])"
   ]
  },
  {
   "cell_type": "code",
   "execution_count": 39,
   "metadata": {},
   "outputs": [
    {
     "name": "stdout",
     "output_type": "stream",
     "text": [
      "Epoch 1/50\n",
      "164/164 [==============================] - 19s 90ms/step - loss: 1.3880 - accuracy: 0.2448 - val_loss: 1.3876 - val_accuracy: 0.2418\n",
      "Epoch 2/50\n",
      "164/164 [==============================] - 13s 82ms/step - loss: 1.2005 - accuracy: 0.4055 - val_loss: 0.7668 - val_accuracy: 0.7126\n",
      "Epoch 3/50\n",
      "164/164 [==============================] - 14s 83ms/step - loss: 0.8877 - accuracy: 0.6609 - val_loss: 0.7242 - val_accuracy: 0.7349\n",
      "Epoch 4/50\n",
      "164/164 [==============================] - 13s 81ms/step - loss: 0.7708 - accuracy: 0.7023 - val_loss: 0.8380 - val_accuracy: 0.6410\n",
      "Epoch 5/50\n",
      "164/164 [==============================] - 13s 82ms/step - loss: 0.7184 - accuracy: 0.7654 - val_loss: 0.7305 - val_accuracy: 0.7410\n",
      "Epoch 6/50\n",
      "164/164 [==============================] - 13s 81ms/step - loss: 0.6487 - accuracy: 0.7804 - val_loss: 0.6429 - val_accuracy: 0.7874\n",
      "Epoch 7/50\n",
      "164/164 [==============================] - 13s 79ms/step - loss: 0.5752 - accuracy: 0.8237 - val_loss: 0.6381 - val_accuracy: 0.7912\n",
      "Epoch 8/50\n",
      "164/164 [==============================] - 13s 82ms/step - loss: 0.4309 - accuracy: 0.8623 - val_loss: 0.4694 - val_accuracy: 0.8318\n",
      "Epoch 9/50\n",
      "164/164 [==============================] - 14s 84ms/step - loss: 0.3049 - accuracy: 0.9037 - val_loss: 0.4168 - val_accuracy: 0.8613\n",
      "Epoch 10/50\n",
      "164/164 [==============================] - 13s 79ms/step - loss: 0.2374 - accuracy: 0.9213 - val_loss: 0.4113 - val_accuracy: 0.8686\n",
      "Epoch 11/50\n",
      "164/164 [==============================] - 14s 85ms/step - loss: 0.1935 - accuracy: 0.9371 - val_loss: 0.4630 - val_accuracy: 0.8693\n",
      "Epoch 12/50\n",
      "164/164 [==============================] - 13s 81ms/step - loss: 0.1719 - accuracy: 0.9461 - val_loss: 0.4455 - val_accuracy: 0.8713\n",
      "Epoch 13/50\n",
      "164/164 [==============================] - 13s 80ms/step - loss: 0.1508 - accuracy: 0.9529 - val_loss: 0.4726 - val_accuracy: 0.8716\n",
      "Epoch 14/50\n",
      "164/164 [==============================] - 13s 80ms/step - loss: 0.1372 - accuracy: 0.9554 - val_loss: 0.4898 - val_accuracy: 0.8755\n",
      "Epoch 15/50\n",
      "164/164 [==============================] - 14s 85ms/step - loss: 0.1249 - accuracy: 0.9609 - val_loss: 0.4876 - val_accuracy: 0.8759\n"
     ]
    }
   ],
   "source": [
    "history = model.fit(x_train, y_train, epochs=50, batch_size=64, validation_split=0.2, callbacks=[es_callback])"
   ]
  },
  {
   "cell_type": "code",
   "execution_count": 40,
   "metadata": {},
   "outputs": [
    {
     "data": {
      "image/png": "[encoded data removed]",
      "text/plain": [
       "<Figure size 1200x400 with 2 Axes>"
      ]
     },
     "metadata": {},
     "output_type": "display_data"
    }
   ],
   "source": [
    "import matplotlib.pyplot as plt\n",
    "plt.figure(figsize=(12, 4))\n",
    "\n",
    "plt.subplot(1, 2, 1)\n",
    "plt.plot(history.history['loss'], 'b-', label='loss')\n",
    "plt.plot(history.history['val_loss'], 'r--', label='val_loss')\n",
    "plt.xlabel('Epoch')\n",
    "plt.legend()\n",
    "\n",
    "plt.subplot(1, 2, 2)\n",
    "plt.plot(history.history['accuracy'], 'g-', label='accuracy')\n",
    "plt.plot(history.history['val_accuracy'], 'k--', label='val_accuracy')\n",
    "plt.xlabel('Epoch')\n",
    "plt.legend()\n",
    "\n",
    "plt.show()"
   ]
  },
  {
   "cell_type": "code",
   "execution_count": 45,
   "metadata": {},
   "outputs": [],
   "source": [
    "model.save_weights('./lstm/my_checkpoint')"
   ]
  },
  {
   "cell_type": "code",
   "execution_count": 44,
   "metadata": {},
   "outputs": [
    {
     "name": "stdout",
     "output_type": "stream",
     "text": [
      "1 나는 너무 행복해\n",
      "2 [['나', '는', '너무', '행복해']]\n",
      "3 [[2, 5526, 1, 2685]]\n",
      "4 [[   2 5526    1 2685    0    0    0    0    0    0    0    0    0    0\n",
      "     0    0    0    0    0    0    0    0    0    0    0    0    0    0\n",
      "     0    0    0    0    0    0    0    0    0    0    0    0    0    0\n",
      "     0    0    0]]\n",
      "1/1 [==============================] - 0s 24ms/step\n",
      "[[0.00541639 0.01891645 0.00608212 0.9695851 ]]\n"
     ]
    }
   ],
   "source": [
    "test_sentence = '나는 너무 행복해'\n",
    "print(1,test_sentence)\n",
    "test_sentence = [okt.morphs(test_sentence)]\n",
    "print(2,test_sentence)\n",
    "\n",
    "\n",
    "test_sentence = tokenizer.texts_to_sequences(test_sentence)\n",
    "print(3,test_sentence)\n",
    "test_sentence = pad_sequences(test_sentence, padding='post', maxlen=45)\n",
    "print(4,test_sentence)\n",
    "\n",
    "print(model.predict(test_sentence))"
   ]
  }
 ],
 "metadata": {
  "kernelspec": {
   "display_name": "Python 3",
   "language": "python",
   "name": "python3"
  },
  "language_info": {
   "codemirror_mode": {
    "name": "ipython",
    "version": 3
   },
   "file_extension": ".py",
   "mimetype": "text/x-python",
   "name": "python",
   "nbconvert_exporter": "python",
   "pygments_lexer": "ipython3",
   "version": "3.11.6"
  },
  "orig_nbformat": 4
 },
 "nbformat": 4,
 "nbformat_minor": 2
}
