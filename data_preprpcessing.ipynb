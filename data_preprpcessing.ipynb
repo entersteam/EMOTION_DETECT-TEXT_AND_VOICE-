{
 "cells": [
  {
   "cell_type": "code",
   "execution_count": 5,
   "metadata": {},
   "outputs": [],
   "source": [
    "import pandas as pd\n",
    "import numpy as np"
   ]
  },
  {
   "cell_type": "code",
   "execution_count": 24,
   "metadata": {},
   "outputs": [],
   "source": [
    "year_4_data = pd.read_csv(\"data/4차년도.csv\", encoding=\"cp949\")\n",
    "year_5_data = pd.read_csv(\"data/5차년도.csv\", encoding=\"cp949\")\n",
    "year_5_data_2 = pd.read_csv(\"data/5차년도_2차.csv\", encoding=\"cp949\")"
   ]
  },
  {
   "cell_type": "code",
   "execution_count": 25,
   "metadata": {},
   "outputs": [
    {
     "name": "stdout",
     "output_type": "stream",
     "text": [
      "4 : 14606, 5_1 : 10011, 5_2 : 19374\n"
     ]
    }
   ],
   "source": [
    "print(f\"4 : {len(year_4_data)}, 5_1 : {len(year_5_data)}, 5_2 : {len(year_5_data_2)}\")"
   ]
  },
  {
   "cell_type": "code",
   "execution_count": 26,
   "metadata": {},
   "outputs": [
    {
     "name": "stdout",
     "output_type": "stream",
     "text": [
      "43991\n"
     ]
    }
   ],
   "source": [
    "data = pd.concat((year_4_data,year_5_data,year_5_data_2))\n",
    "print(len(data))"
   ]
  },
  {
   "cell_type": "code",
   "execution_count": 27,
   "metadata": {},
   "outputs": [
    {
     "name": "stdout",
     "output_type": "stream",
     "text": [
      "['anger' 'sad' 'fear' 'disgust' 'neutral' 'happiness' 'sadness' 'angry'\n",
      " 'surprise'] 9\n",
      "['Neutral' 'Angry' 'Sadness' 'Disgust' 'Surprise' 'Fear' 'Happiness'\n",
      " 'angry' 'neutral' 'happiness' 'sadness' 'disgust' 'surprise' 'fear'] 14\n",
      "['Angry' 'Sadness' 'Neutral' 'Disgust' 'Surprise' 'Fear' 'Happiness'\n",
      " 'surprise' 'happiness' 'sadness' 'angry' 'fear' 'disgust' 'neutral'] 14\n",
      "['Neutral' 'Sadness' 'Angry' 'Happiness' 'Fear' 'Disgust' 'Surprise'\n",
      " 'happiness' 'sadness' 'neutral' 'angry' 'surprise' 'disgust' 'fear'] 14\n",
      "['Neutral' 'Angry' 'Sadness' 'Disgust' 'Fear' 'Surprise' 'Happiness'\n",
      " 'happiness' 'sadness' 'neutral' 'angry' 'disgust' 'fear' 'surprise'] 14\n",
      "['Angry' 'Sadness' 'Neutral' 'Surprise' 'Disgust' 'Happiness' 'Fear'\n",
      " 'happiness' 'neutral' 'sadness' 'angry' 'surprise' 'disgust' 'fear'] 14\n"
     ]
    }
   ],
   "source": [
    "print(data['상황'].unique(), len(data['상황'].unique()))\n",
    "for i in range(1,6):\n",
    "    print(data[f'{i}번 감정'].unique(),len(data[f'{i}번 감정'].unique()))"
   ]
  },
  {
   "cell_type": "code",
   "execution_count": 28,
   "metadata": {},
   "outputs": [],
   "source": [
    "# 기쁨 : 0, 슬픔 : 1, 화남 : 2, 두려움 : 3, 역겨움 : 4, 중립 : 5, 놀라움 : 6\n",
    "emot_indexing_dic = {'happiness' : 0, 'sadness' : 1, 'angry' : 2, 'fear' : 3, 'disgust' : 4, 'neutral' : 5, 'surprise' : 6}\n"
   ]
  },
  {
   "cell_type": "code",
   "execution_count": 31,
   "metadata": {},
   "outputs": [],
   "source": [
    "x = []\n",
    "y = []\n",
    "for i in range(len(data)):\n",
    "    emot = [0]*7\n",
    "    line = data.iloc[i]\n",
    "    x.append(line['발화문'])\n",
    "    for j in range(1,6):\n",
    "        emot[emot_indexing_dic[line[f'{j}번 감정'].lower()]] += line[f'{j}번 감정세기']\n",
    "    y.append(emot)"
   ]
  },
  {
   "cell_type": "code",
   "execution_count": 33,
   "metadata": {},
   "outputs": [
    {
     "name": "stdout",
     "output_type": "stream",
     "text": [
      "anger : 8372\n",
      "sad : 11152\n",
      "fear : 4131\n",
      "disgust : 4660\n",
      "neutral : 3262\n",
      "happiness : 4548\n",
      "sadness : 2848\n",
      "angry : 3263\n",
      "surprise : 1755\n"
     ]
    }
   ],
   "source": [
    "for situ in data['상황'].unique():\n",
    "    print(situ,':',len(data[data['상황']==situ]))"
   ]
  }
 ],
 "metadata": {
  "kernelspec": {
   "display_name": "Python 3",
   "language": "python",
   "name": "python3"
  },
  "language_info": {
   "codemirror_mode": {
    "name": "ipython",
    "version": 3
   },
   "file_extension": ".py",
   "mimetype": "text/x-python",
   "name": "python",
   "nbconvert_exporter": "python",
   "pygments_lexer": "ipython3",
   "version": "3.10.9"
  },
  "orig_nbformat": 4
 },
 "nbformat": 4,
 "nbformat_minor": 2
}
